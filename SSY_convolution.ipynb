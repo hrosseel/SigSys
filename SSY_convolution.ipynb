{
 "metadata": {
  "language_info": {
   "codemirror_mode": {
    "name": "ipython",
    "version": 3
   },
   "file_extension": ".py",
   "mimetype": "text/x-python",
   "name": "python",
   "nbconvert_exporter": "python",
   "pygments_lexer": "ipython3",
   "version": "3.8.5-final"
  },
  "orig_nbformat": 2,
  "kernelspec": {
   "name": "python3",
   "display_name": "Python 3.8.5 64-bit ('DSP': conda)",
   "metadata": {
    "interpreter": {
     "hash": "3c9b6fa0bf35a961f1d5662e889ebceb38792b03bbcdb7dc47ffb0e7d6fb057b"
    }
   }
  }
 },
 "nbformat": 4,
 "nbformat_minor": 2,
 "cells": [
  {
   "cell_type": "code",
   "execution_count": 1,
   "metadata": {},
   "outputs": [],
   "source": [
    "import numpy as np\n",
    "%matplotlib widget\n",
    "from matplotlib import pyplot as plt\n",
    "from ipywidgets import interact, widgets"
   ]
  },
  {
   "cell_type": "code",
   "execution_count": 2,
   "metadata": {},
   "outputs": [
    {
     "output_type": "display_data",
     "data": {
      "text/plain": "Canvas(toolbar=Toolbar(toolitems=[('Home', 'Reset original view', 'home', 'home'), ('Back', 'Back to previous …",
      "application/vnd.jupyter.widget-view+json": {
       "version_major": 2,
       "version_minor": 0,
       "model_id": "2b05dc1adc94455ba0b1b9f27786fd67"
      }
     },
     "metadata": {}
    },
    {
     "output_type": "display_data",
     "data": {
      "text/plain": "interactive(children=(FloatSlider(value=-1.0, description='t', max=6.0, min=-6.0, step=0.2), FloatSlider(value…",
      "application/vnd.jupyter.widget-view+json": {
       "version_major": 2,
       "version_minor": 0,
       "model_id": "618005a711fe48d78d51fb0e144b0c37"
      }
     },
     "metadata": {}
    },
    {
     "output_type": "display_data",
     "data": {
      "text/plain": "Button(description='Reset', style=ButtonStyle())",
      "application/vnd.jupyter.widget-view+json": {
       "version_major": 2,
       "version_minor": 0,
       "model_id": "1ce945d93dd4476884b21b9b031a00c4"
      }
     },
     "metadata": {}
    }
   ],
   "source": [
    "fs = 1000\n",
    "tau = np.arange(-20 * fs, 20 * fs) / fs\n",
    "integral = np.array([np.nan] * tau.shape[0])\n",
    "t = -1\n",
    "T = 2\n",
    "\n",
    "f = np.heaviside(tau, 0.5) - np.heaviside(tau - T, 0.5)\n",
    "g = (t - tau) * (np.heaviside(t - tau, 0.5) - np.heaviside(t - tau - T, 0.5))\n",
    "\n",
    "fig = plt.figure()\n",
    "ax = fig.add_subplot(1, 1, 1)\n",
    "ax.set_title(\"Oefening 2.3c\")\n",
    "ax.set_xlabel(\"tau\")\n",
    "ax.plot(integral)\n",
    "line_f, = ax.plot(tau, f)\n",
    "line_g, = ax.plot(tau, g)\n",
    "line_i, = ax.plot(tau, integral, '*')\n",
    "ax.grid()\n",
    "\n",
    "@widgets.interact(t=widgets.FloatSlider(value=-1, min=-6, max=6, step=0.2), \n",
    "         T=widgets.FloatSlider(value=2, min=1, max=10, step=1))\n",
    "def update_fig(t, T):\n",
    "    f = np.heaviside(tau, 0.5) - np.heaviside(tau - T, 0.5)\n",
    "    g = (t - tau) * (np.heaviside(t - tau, 0.5) - np.heaviside(t - tau - T, 0.5))\n",
    "    integral[int((20 + t) * fs)] = np.sum(f * g) / fs\n",
    "\n",
    "    line_f.set_ydata(f)\n",
    "    line_g.set_ydata(g)\n",
    "    line_i.set_ydata(integral)\n",
    "\n",
    "    ax.set_xlim([-T-5, T+5])\n",
    "    ax.set_ylim([-1, 2*T+3])\n",
    "    fig.canvas.draw_idle()\n",
    "\n",
    "reset_btn = widgets.Button(description=\"Reset\")\n",
    "@reset_btn.on_click\n",
    "def reset_btn_on_click(button):\n",
    "    t = -2\n",
    "    integral[:] = np.array([np.nan] * tau.shape[0])\n",
    "    line_i.set_ydata(integral)\n",
    "    fig.canvas.draw_idle()\n",
    "display(reset_btn)"
   ]
  }
 ]
}